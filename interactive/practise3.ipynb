{
 "cells": [
  {
   "cell_type": "markdown",
   "id": "da5ecf30-fe28-4be0-b970-5ab4ba20a92e",
   "metadata": {},
   "source": [
    "### Практическое задание 3"
   ]
  },
  {
   "cell_type": "markdown",
   "id": "74835528-98e2-49d3-891f-32408cc01a69",
   "metadata": {},
   "source": [
    "<span style=\"color:blue\"> **Задача №1**</span><br>\n",
    "\n",
    "Найдите неопределённый интеграл\n",
    "\n",
    "$ \\int x^2 dx$\n",
    "\n",
    "и определённый интеграл\n",
    "\n",
    "$ \\int_{-1}^{2} x^2 dx$.\n",
    "\n",
    "Найдите численно интеграл этой функции и сравните результат, $\\Delta x = 0.01$."
   ]
  },
  {
   "cell_type": "code",
   "execution_count": 9,
   "id": "410cf94a-ff0a-4f56-ab45-5c2067713fd4",
   "metadata": {},
   "outputs": [],
   "source": [
    "import sympy as sp\n",
    "from sympy.abc import x,y\n",
    "from sympy import lambdify\n",
    "import scipy.integrate as integrate\n",
    "from sympy import init_printing, pretty, latex, pprint\n",
    "init_printing()"
   ]
  },
  {
   "cell_type": "code",
   "execution_count": 14,
   "id": "8f22b8fb-edc9-490b-bed4-2fb3a1821663",
   "metadata": {},
   "outputs": [],
   "source": [
    "def calcIntegrate(expression, **args):\n",
    "    \"\"\" Функция нахождения неопределенного или определенного интеграла.\n",
    "        Вывод результата.\n",
    "    \"\"\"\n",
    "    if len(args) == 2:\n",
    "        try:\n",
    "            low, high = (args['low'],args['high'])\n",
    "        except (KeyError, ValueError) as _:\n",
    "            raise Exception(\"Invalid input range for definite integral!\")\n",
    "        y = sp.integrate(expression, (x, low, high))\n",
    "        print(f\"Определенный интеграл по x, в интервале от {low} до {high}:\")\n",
    "    else:\n",
    "        y = sp.integrate(expression, x)\n",
    "        print(\"Неопределенный интеграл по x:\")\n",
    "    \n",
    "    display(y)\n",
    "    return y\n",
    "        \n",
    "def calcDefIntegrate(expression, low, high):\n",
    "    \"\"\" Функция нахождения определенного интеграла с интервалом.\n",
    "        Вывод результата.\n",
    "    \"\"\"\n",
    "\n",
    "# Выражение для расчета интегралов\n",
    "expessionDy = x**2"
   ]
  },
  {
   "cell_type": "code",
   "execution_count": 21,
   "id": "37a35a91-2850-4837-b8c3-308b2a966732",
   "metadata": {},
   "outputs": [
    {
     "name": "stdout",
     "output_type": "stream",
     "text": [
      "Неопределенный интеграл по x:\n"
     ]
    },
    {
     "data": {
      "image/png": "[encoded data removed]",
      "text/latex": [
       "$\\displaystyle \\frac{x^{3}}{3}$"
      ],
      "text/plain": [
       " 3\n",
       "x \n",
       "──\n",
       "3 "
      ]
     },
     "metadata": {},
     "output_type": "display_data"
    },
    {
     "name": "stdout",
     "output_type": "stream",
     "text": [
      "Определенный интеграл по x, в интервале от -1 до 2:\n"
     ]
    },
    {
     "data": {
      "image/png": "[encoded data removed]",
      "text/latex": [
       "$\\displaystyle 3$"
      ],
      "text/plain": [
       "3"
      ]
     },
     "metadata": {},
     "output_type": "display_data"
    }
   ],
   "source": [
    "# Найдем определенный интегралы\n",
    "calcIntegrate(expessionDy)\n",
    "\n",
    "lowVal, highVal = (-1, 2)\n",
    "_= calcIntegrate(expessionDy, low=lowVal, high=highVal)"
   ]
  },
  {
   "cell_type": "code",
   "execution_count": 18,
   "id": "2f106af6-38dc-4cd8-a69b-4f639b93fede",
   "metadata": {},
   "outputs": [
    {
     "name": "stdout",
     "output_type": "stream",
     "text": [
      "\n",
      "Значение интеграла, численно рассчитанного, в интервале (1.99 - 2): 0.039800333333333375\n"
     ]
    }
   ],
   "source": [
    "delta = 1e-2\n",
    "lowVal, highVal = (highVal-delta, highVal)\n",
    "\n",
    "# Найдем определенный интеграл численно в диапазоне дельта x=0.01\n",
    "result1 = integrate.quad(lambdify(x, expessionDy), lowVal, highVal)\n",
    "print(f\"\\nЗначение интеграла, численно рассчитанного, в интервале ({lowVal} - {highVal}): {result1[0]}\")"
   ]
  },
  {
   "cell_type": "code",
   "execution_count": 20,
   "id": "d675b7ec-3e25-41b1-9499-c49ee28b2084",
   "metadata": {},
   "outputs": [
    {
     "name": "stdout",
     "output_type": "stream",
     "text": [
      "Определенный интеграл по x, в интервале от 1.99 до 2:\n"
     ]
    },
    {
     "data": {
      "image/png": "[encoded data removed]",
      "text/latex": [
       "$\\displaystyle 0.0398003333333334$"
      ],
      "text/plain": [
       "0.0398003333333334"
      ]
     },
     "metadata": {},
     "output_type": "display_data"
    },
    {
     "name": "stdout",
     "output_type": "stream",
     "text": [
      "\n",
      "Различие расчетных значений интеграла:\n",
      "6.245004513516506e-17\n"
     ]
    }
   ],
   "source": [
    "result2 = calcIntegrate(expessionDy, low=lowVal, high=highVal)\n",
    "print(f\"\\nРазличие расчетных значений интеграла:\\n{(float(result2)) - float(result1[0])}\")"
   ]
  },
  {
   "cell_type": "markdown",
   "id": "b0180bbe-a014-4c1a-8d4d-09c41fc0773f",
   "metadata": {},
   "source": [
    "#### Вывод:\n",
    "Значение интеграла, найденное численно отличается на порядок погрешности интегрирования, от аналитического решения, но не смотря на погрешность это **различие весьма мало и им можно пренебречь.**"
   ]
  },
  {
   "cell_type": "code",
   "execution_count": null,
   "id": "52d120e4-f96f-4761-abad-7690d949a0a6",
   "metadata": {},
   "outputs": [],
   "source": []
  }
 ],
 "metadata": {
  "kernelspec": {
   "display_name": "Python 3 (ipykernel)",
   "language": "python",
   "name": "python3"
  },
  "language_info": {
   "codemirror_mode": {
    "name": "ipython",
    "version": 3
   },
   "file_extension": ".py",
   "mimetype": "text/x-python",
   "name": "python",
   "nbconvert_exporter": "python",
   "pygments_lexer": "ipython3",
   "version": "3.11.7"
  }
 },
 "nbformat": 4,
 "nbformat_minor": 5
}
