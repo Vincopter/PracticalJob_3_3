{
 "cells": [
  {
   "cell_type": "markdown",
   "id": "da5ecf30-fe28-4be0-b970-5ab4ba20a92e",
   "metadata": {},
   "source": [
    "### Практическое задание 2"
   ]
  },
  {
   "cell_type": "markdown",
   "id": "74835528-98e2-49d3-891f-32408cc01a69",
   "metadata": {},
   "source": [
    "<span style=\"color:blue\"> **Задача №1**</span><br>\n",
    "\n",
    "Найдите $y''$\n",
    "\n",
    "$y = \\tan(x)$."
   ]
  },
  {
   "cell_type": "code",
   "execution_count": 3,
   "id": "410cf94a-ff0a-4f56-ab45-5c2067713fd4",
   "metadata": {},
   "outputs": [],
   "source": [
    "import sympy as sp\n",
    "from sympy.abc import x,y\n",
    "from sympy import init_printing, pretty, latex, pprint\n",
    "init_printing()"
   ]
  },
  {
   "cell_type": "code",
   "execution_count": 12,
   "id": "3df9fcff-60cc-4d64-a1ff-6255ce43da76",
   "metadata": {},
   "outputs": [
    {
     "name": "stdout",
     "output_type": "stream",
     "text": [
      "Исходная функция:\n"
     ]
    },
    {
     "data": {
      "image/png": "[encoded data removed]",
      "text/latex": [
       "$\\displaystyle \\tan{\\left(x \\right)}$"
      ],
      "text/plain": [
       "tan(x)"
      ]
     },
     "metadata": {},
     "output_type": "display_data"
    },
    {
     "name": "stdout",
     "output_type": "stream",
     "text": [
      "Производная второго порядка:\n"
     ]
    },
    {
     "data": {
      "image/png": "[encoded data removed]",
      "text/latex": [
       "$\\displaystyle \\frac{2 \\tan{\\left(x \\right)}}{\\cos^{2}{\\left(x \\right)}}$"
      ],
      "text/plain": [
       "2⋅tan(x)\n",
       "────────\n",
       "   2    \n",
       "cos (x) "
      ]
     },
     "metadata": {},
     "output_type": "display_data"
    }
   ],
   "source": [
    "# Функция\n",
    "f = sp.tan(x)\n",
    "print(\"Исходная функция:\")\n",
    "display(f)\n",
    "\n",
    "# Найдем производную вторго порядка\n",
    "ddx = sp.diff(f,x,2)\n",
    "print(\"Производная второго порядка:\")\n",
    "display(sp.simplify(ddx))\n"
   ]
  },
  {
   "cell_type": "code",
   "execution_count": null,
   "id": "37a35a91-2850-4837-b8c3-308b2a966732",
   "metadata": {},
   "outputs": [],
   "source": []
  },
  {
   "cell_type": "code",
   "execution_count": null,
   "id": "e1e237c3-62ca-4059-9f03-b7927eedb5ae",
   "metadata": {},
   "outputs": [],
   "source": []
  }
 ],
 "metadata": {
  "kernelspec": {
   "display_name": "Python 3 (ipykernel)",
   "language": "python",
   "name": "python3"
  },
  "language_info": {
   "codemirror_mode": {
    "name": "ipython",
    "version": 3
   },
   "file_extension": ".py",
   "mimetype": "text/x-python",
   "name": "python",
   "nbconvert_exporter": "python",
   "pygments_lexer": "ipython3",
   "version": "3.11.7"
  }
 },
 "nbformat": 4,
 "nbformat_minor": 5
}
